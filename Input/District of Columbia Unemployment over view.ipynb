{
 "cells": [
  {
   "cell_type": "markdown",
   "metadata": {},
   "source": [
    "## District of Columbia Unemployment Rate Improves to 6.4 Percent in November Friday, December 22, 2017"
   ]
  },
  {
   "cell_type": "markdown",
   "metadata": {},
   "source": [
    "Source : https://does.dc.gov/release/district-columbia-unemployment-rate-improves-64-percent-november"
   ]
  },
  {
   "cell_type": "markdown",
   "metadata": {},
   "source": [
    "\n",
    "(Washington, DC) – The District of Columbia Department of Employment Services reported today that the seasonally adjusted preliminary unemployment rate was 6.4 percent in November – down 0.2 percentage points from the reported October rate. The improved economy is apparent in Wards 7 and 8 particularly, where the opportunity gap is most apparent.  In Ward 7, the unemployment rate is 10.4 percent and in Ward 8, the unemployment rate is 13.3 percent, a 1.5 percent and 1.7 percent drop since October, respectively.  \n",
    "                              \n",
    "“My Administration is working each and every day to ensure that all Washingtonians have access to a pathway to the middle class,” said Mayor Muriel Bowser. “We are encouraged by the most recent jobs numbers, particularly in Wards 7 and 8.  Today's report demonstrates that our city is on the right path to ensure that residents have the tools and skills they need to land good paying jobs and thrive in the District of Columbia.”\n",
    "\n",
    "The District’s preliminary November job estimates show an increase of 100 jobs, for a total of 798,200 jobs in the District. The private sector increased by 100 jobs, while the public sector payrolls had no over-the-month job change. The numbers are drawn from the United States Bureau of Labor Statistics (BLS) through its monthly survey of the District of Columbia’s employers. \n",
    " \n",
    "The number of employed District residents was up 700 from 374,300 in October 2017 to 375,000 in November 2017.\n",
    "\n",
    "Employment Overview\n",
    "\n",
    "Trade, Transportation, and Utilities sectors increased by 300 jobs, after having an increase of 100 jobs in October. With employment at 33,100, jobs are up by 600 or 1.8 percent from a year ago.\n",
    "Educational and Health Services sector increased by 900 jobs, after an increase of 2,500 jobs in the prior month. With employment sector totals at 141,800, jobs are up by 1,700 or 1.2 percent from a year ago. \n",
    "Information sector increased by 100 jobs, after a decrease of 100 jobs in the prior month. With employment at 16,700, jobs are down by 200 or -1.2 percent from one year ago.\n",
    "Financial Activities sector decreased by 500 jobs, after an increase of 100 jobs the prior month. With employment at 29,300, jobs are down by 600 or -2.0 percent from one year ago. \n",
    "Manufacturing sector had no over-the-month change in jobs, after having no change in jobs in the prior month. With employment sector totals at 1,200, there were no change in jobs from one year ago.\n",
    "Professional and Business Services sector increased by 300 jobs, after an increase of 2,100 jobs in October. With employment at 171,000, jobs are up by 2,300 or 1.4 percent from a year ago.\n",
    "Construction sector decreased by 100 jobs, after a decrease of 100 jobs in October. With employment at 14,600, there was no change in jobs over the year.\n",
    "Other Services sector increased by 700 jobs, after having a decrease of 100 jobs the prior month. With employment at 72,800, jobs are up by 800 or 1.1 percent from a year ago.\n",
    "Leisure and Hospitality sector decreased by 1,600 jobs, after having an increase of 800 jobs in October. With employment at 80,300, jobs are up by 3,600 or 4.7 percent over the year.\n",
    " Labor Force Overview\n",
    "\n",
    "The number of employed District residents increased by 700 over the month to 375,000. The civilian labor force was decreased by 400 to 400,500. \n",
    "One year ago, total employment was 370,700 and the civilian labor force was 393,300.  The number of unemployed was 22,700, and the unemployment rate was 5.8 percent.\n",
    "\n",
    "NOTES: The November 2017 final and December 2017 preliminary unemployment rate and survey of jobs data will be released on Tuesday, January 23, 2018. Historical jobs and labor force estimates for the District of Columbia and detailed labor market information is available here.\n",
    " \n",
    "\n",
    "Technical Notes: Estimates of industry employment and unemployment levels are arrived through the use of two different monthly surveys. \n",
    " \n",
    "Industry employment data is derived from the Current Employment Statistics (CES) survey, a monthly survey of business establishments conducted by the US Bureau of Labor Statistics (BLS) of the US Department of Labor, which provides estimates of employment, hours, and earnings data broken down by industry for the nation as a whole, all states, and most major metropolitan areas (often referred to as the “establishment” survey). \n",
    " \n",
    "Resident employment and unemployment data are mainly derived from the District’s portion of the national Current Population Survey (CPS), a household survey conducted each month by the US Census Bureau under contract with BLS, which provides input to the Local Area Unemployment Statistics (LAUS) program (often referred to as the “household” survey). \n",
    " \n",
    "Both industry and household estimates are revised each month based on additional information from updated survey reports compiled by BLS. In addition, these estimates are benchmarked (revised) annually based on actual counts from the District’s Unemployment Compensation Law administrative records and other data.\n",
    " \n",
    "Data reflects 2016 annual benchmark revisions.\n",
    " \n",
    "Industry employment data is not seasonally adjusted.\n",
    "\n",
    "Attachment(s): \n",
    "PDF icon Wage and Salary Employment by Industry and Place of Work - 74.2 KB (pdf)\n",
    "PDF icon DC Ward Data - 35.1 KB (pdf)\n",
    "PDF icon Employment Status for the Civilian Population - 43.7 KB (pdf)"
   ]
  },
  {
   "cell_type": "code",
   "execution_count": null,
   "metadata": {},
   "outputs": [],
   "source": []
  }
 ],
 "metadata": {
  "kernelspec": {
   "display_name": "Python [conda env:dsi]",
   "language": "python",
   "name": "conda-env-dsi-py"
  },
  "language_info": {
   "codemirror_mode": {
    "name": "ipython",
    "version": 3
   },
   "file_extension": ".py",
   "mimetype": "text/x-python",
   "name": "python",
   "nbconvert_exporter": "python",
   "pygments_lexer": "ipython3",
   "version": "3.6.5"
  }
 },
 "nbformat": 4,
 "nbformat_minor": 2
}
